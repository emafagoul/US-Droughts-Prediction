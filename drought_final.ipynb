{
 "cells": [
  {
   "cell_type": "markdown",
   "id": "natural-marking",
   "metadata": {},
   "source": [
    "<div style=\"font-variant: small-caps; \n",
    "      font-weight: normal; \n",
    "      font-size: 35px; \n",
    "      text-align: center; \n",
    "      padding: 15px; \n",
    "      margin: 10px;\">\n",
    "  Drought in the US<br>\n",
    "  </div> \n",
    "\n",
    "<div style=\"font-variant: small-caps; \n",
    "      font-weight: normal; \n",
    "      font-size: 35px; \n",
    "      text-align: center; \n",
    "      padding: 15px; \n",
    "      margin: 10px;\">\n",
    "  -<br>\n",
    "  </div> \n",
    "  \n",
    "<div style=\"font-variant: small-caps; \n",
    "      font-weight: normal; \n",
    "      font-size: 30px; \n",
    "      text-align: center; \n",
    "      padding: 15px; \n",
    "      margin: 10px;\">\n",
    "      Illustration with Random Forests <br><br>\n",
    "  </div> \n",
    "  \n",
    "<div style=\"font-variant: small-caps; \n",
    "      font-weight: normal; \n",
    "      font-size: 20px; \n",
    "      text-align: center; \n",
    "      padding: 15px; \n",
    "      margin: 10px;\">\n",
    "      EAEE4000 - Fall 2022\n",
    "  </div>"
   ]
  },
  {
   "cell_type": "markdown",
   "id": "ideal-blame",
   "metadata": {},
   "source": [
    "Note: The files were heavy. You can load first the \"import modules\" section and then directly go to \"intermediary saving\" in the preprocessing section."
   ]
  },
  {
   "cell_type": "markdown",
   "id": "green-controversy",
   "metadata": {},
   "source": [
    "### Import Modules"
   ]
  },
  {
   "cell_type": "code",
   "execution_count": 1,
   "id": "special-intermediate",
   "metadata": {
    "scrolled": true
   },
   "outputs": [],
   "source": [
    "#based modules\n",
    "import os\n",
    "import numpy as np\n",
    "import pandas as pd, copy, datetime\n",
    "from time import time\n",
    "\n",
    "\n",
    "#for the model random forest\n",
    "from sklearn.ensemble import RandomForestClassifier, GradientBoostingClassifier\n",
    "from sklearn.model_selection import RandomizedSearchCV\n",
    "\n",
    "#for visualization\n",
    "from matplotlib import pyplot as plt\n",
    "\n",
    "#evaluation\n",
    "from sklearn.metrics import f1_score, accuracy_score, recall_score, precision_score"
   ]
  },
  {
   "cell_type": "code",
   "execution_count": 2,
   "id": "postal-circumstances",
   "metadata": {},
   "outputs": [
    {
     "name": "stderr",
     "output_type": "stream",
     "text": [
      "2022-12-21 17:39:07.043915: I tensorflow/core/platform/cpu_feature_guard.cc:193] This TensorFlow binary is optimized with oneAPI Deep Neural Network Library (oneDNN) to use the following CPU instructions in performance-critical operations:  SSE4.1 SSE4.2\n",
      "To enable them in other operations, rebuild TensorFlow with the appropriate compiler flags.\n"
     ]
    }
   ],
   "source": [
    "#for the NN\n",
    "\n",
    "import tensorflow as tf\n",
    "from tensorflow import keras\n",
    "from tensorflow.keras.models import Model, load_model\n",
    "from tensorflow.keras.layers import *\n",
    "from tensorflow.keras import Sequential\n",
    "\n",
    "import netCDF4\n",
    "\n",
    "%matplotlib inline\n",
    "%config InlineBackend.figure_format = 'retina'\n",
    "%load_ext autoreload\n",
    "%autoreload 2\n",
    "\n",
    "plt.rcParams['savefig.dpi'] = 400\n",
    "plt.rcParams['font.size'] = 13\n",
    "plt.rcParams[\"legend.frameon\"] = False"
   ]
  },
  {
   "cell_type": "code",
   "execution_count": 3,
   "id": "premier-consultation",
   "metadata": {
    "scrolled": true
   },
   "outputs": [],
   "source": [
    "path_to_repo = os.path.dirname(os.getcwd())\n",
    "path_to_droughts = os.path.join(path_to_repo, \"Droughts_Prediction\", \"data\", \"\")"
   ]
  },
  {
   "cell_type": "code",
   "execution_count": 4,
   "id": "outdoor-diabetes",
   "metadata": {
    "scrolled": true
   },
   "outputs": [
    {
     "data": {
      "text/plain": [
       "'/Users/emafagoul/Documents/Columbia/ML/Droughts_Prediction/data/'"
      ]
     },
     "execution_count": 4,
     "metadata": {},
     "output_type": "execute_result"
    }
   ],
   "source": [
    "path_to_droughts"
   ]
  },
  {
   "cell_type": "code",
   "execution_count": 5,
   "id": "parental-leave",
   "metadata": {
    "scrolled": false
   },
   "outputs": [
    {
     "name": "stdout",
     "output_type": "stream",
     "text": [
      "/Users/emafagoul/Documents/Columbia/ML/Droughts_Prediction/data/train_timeseries.csv\n",
      "/Users/emafagoul/Documents/Columbia/ML/Droughts_Prediction/data/validation_timeseries.csv\n",
      "/Users/emafagoul/Documents/Columbia/ML/Droughts_Prediction/data/test_timeseries.csv\n"
     ]
    }
   ],
   "source": [
    "path_to_train = '{}train_timeseries.csv'.format(path_to_droughts)\n",
    "path_to_valid = '{}validation_timeseries.csv'.format(path_to_droughts)\n",
    "path_to_test = '{}test_timeseries.csv'.format(path_to_droughts)\n",
    "print(path_to_train)\n",
    "print(path_to_valid)\n",
    "print(path_to_test)"
   ]
  },
  {
   "cell_type": "markdown",
   "id": "banner-springfield",
   "metadata": {},
   "source": [
    "# Data Inspection"
   ]
  },
  {
   "cell_type": "markdown",
   "id": "reverse-westminster",
   "metadata": {},
   "source": [
    "### Import the data"
   ]
  },
  {
   "cell_type": "code",
   "execution_count": null,
   "id": "polar-object",
   "metadata": {
    "scrolled": true
   },
   "outputs": [],
   "source": [
    "df_train = pd.read_csv(path_to_train, low_memory = False)\n",
    "df_valid = pd.read_csv(path_to_valid, low_memory = False)\n",
    "df_test = pd.read_csv(path_to_test,low_memory = False)"
   ]
  },
  {
   "cell_type": "code",
   "execution_count": null,
   "id": "meaningful-federal",
   "metadata": {},
   "outputs": [],
   "source": [
    "df_raw=pd.concat([pd.concat([df_train,df_valid]),df_test])"
   ]
  },
  {
   "cell_type": "markdown",
   "id": "regulation-stability",
   "metadata": {},
   "source": [
    "### Look at the data"
   ]
  },
  {
   "cell_type": "code",
   "execution_count": null,
   "id": "classified-roads",
   "metadata": {
    "scrolled": true
   },
   "outputs": [],
   "source": [
    "df_raw.head()"
   ]
  },
  {
   "cell_type": "code",
   "execution_count": null,
   "id": "complete-handbook",
   "metadata": {},
   "outputs": [],
   "source": [
    "df_raw.tail()"
   ]
  },
  {
   "cell_type": "code",
   "execution_count": null,
   "id": "athletic-return",
   "metadata": {
    "scrolled": true
   },
   "outputs": [],
   "source": [
    "df_raw.shape"
   ]
  },
  {
   "cell_type": "code",
   "execution_count": null,
   "id": "verified-islam",
   "metadata": {
    "scrolled": true
   },
   "outputs": [],
   "source": [
    "df_raw.describe()"
   ]
  },
  {
   "cell_type": "code",
   "execution_count": null,
   "id": "brave-tracker",
   "metadata": {
    "scrolled": true
   },
   "outputs": [],
   "source": [
    "df_raw.dtypes"
   ]
  },
  {
   "cell_type": "code",
   "execution_count": null,
   "id": "mathematical-insight",
   "metadata": {},
   "outputs": [],
   "source": [
    "df_raw.isna().sum()"
   ]
  },
  {
   "cell_type": "markdown",
   "id": "surprising-supplier",
   "metadata": {},
   "source": [
    "**The key fields in the data frame are:**\n",
    "-\tfips: the unique identifier of a US County\n",
    "-\tscore: the US Drought Monitor Indicator (the value to predict). There are 6 levels of drought.\n",
    "-\tdate: the date the weather data were collected\n",
    "\n",
    "**Summary of the initial findings:**\n",
    "-\tThere are 23,841,468 rows (entries) and 21 columns (features)\n",
    "-\tThere are missing values only for score feature, as the level of drought is given weekly. There is no missing value for the other columns\n",
    "-\tThe date is in the object type. We'll have to format it into a datetime object to be able to work with it. The other columns are in correct format"
   ]
  },
  {
   "cell_type": "markdown",
   "id": "accepting-workplace",
   "metadata": {
    "heading_collapsed": true
   },
   "source": [
    "# Data Preprocessing"
   ]
  },
  {
   "cell_type": "markdown",
   "id": "clean-stack",
   "metadata": {
    "hidden": true
   },
   "source": [
    "Preprocessing steps:\n",
    "* Fixing the date column by converting it to a datetime type.\n",
    "* Creating new columns from the date column to enrich our data.\n",
    "* Fixing our missing values\n",
    "* Splitting by date and climate zone\n",
    "* Normalization"
   ]
  },
  {
   "cell_type": "markdown",
   "id": "deluxe-crest",
   "metadata": {
    "hidden": true
   },
   "source": [
    "### Convert date times"
   ]
  },
  {
   "cell_type": "markdown",
   "id": "distinct-maximum",
   "metadata": {
    "hidden": true
   },
   "source": [
    "To transform our date column into datetime data type, we will use the parse_dates parameter to turn it into real datetime type. So, we'll load the data again but this time, we'll parse dates."
   ]
  },
  {
   "cell_type": "code",
   "execution_count": null,
   "id": "secondary-regular",
   "metadata": {
    "hidden": true
   },
   "outputs": [],
   "source": [
    "df_train = pd.read_csv(path_to_train, low_memory = False, parse_dates = [\"date\"])\n",
    "df_valid = pd.read_csv(path_to_valid, low_memory = False, parse_dates = [\"date\"])\n",
    "df_test = pd.read_csv(path_to_test,low_memory = False, parse_dates = [\"date\"])"
   ]
  },
  {
   "cell_type": "code",
   "execution_count": null,
   "id": "familiar-retailer",
   "metadata": {
    "hidden": true
   },
   "outputs": [],
   "source": [
    "df_new=pd.concat([pd.concat([df_train,df_valid]),df_test])"
   ]
  },
  {
   "cell_type": "code",
   "execution_count": null,
   "id": "respective-warrant",
   "metadata": {
    "hidden": true,
    "scrolled": false
   },
   "outputs": [],
   "source": [
    "#check\n",
    "df_new.date.head(10)"
   ]
  },
  {
   "cell_type": "markdown",
   "id": "wrapped-saturn",
   "metadata": {
    "hidden": true
   },
   "source": [
    "### Create new columns"
   ]
  },
  {
   "cell_type": "markdown",
   "id": "alert-infection",
   "metadata": {
    "hidden": true
   },
   "source": [
    "The prediction we want to achieve is a time-based forecasting. Thus, the most information we have on the dates, the best our algorithm can learn.\n",
    "\n",
    "We will add some information on the dates, based on the column 'date'."
   ]
  },
  {
   "cell_type": "code",
   "execution_count": null,
   "id": "precise-square",
   "metadata": {
    "hidden": true,
    "scrolled": true
   },
   "outputs": [],
   "source": [
    "# New colums\n",
    "df_new['Year'] = df_new.date.dt.year\n",
    "df_new['Month'] = df_new.date.dt.month\n",
    "df_new['Week'] = df_new.date.dt.week\n",
    "df_new['Day'] = df_new.date.dt.day\n",
    "df_new[\"Day_of_year\"] = df_new.date.dt.dayofyear\n",
    "\n",
    "# Let's confirm the changes\n",
    "df_new.head()"
   ]
  },
  {
   "cell_type": "code",
   "execution_count": null,
   "id": "available-train",
   "metadata": {
    "hidden": true,
    "scrolled": true
   },
   "outputs": [],
   "source": [
    "print(df_new.shape)"
   ]
  },
  {
   "cell_type": "code",
   "execution_count": null,
   "id": "technological-meditation",
   "metadata": {
    "hidden": true
   },
   "outputs": [],
   "source": [
    "# Drop date\n",
    "df_new.drop(\"date\", axis=1, inplace=True)"
   ]
  },
  {
   "cell_type": "code",
   "execution_count": null,
   "id": "native-robert",
   "metadata": {
    "hidden": true,
    "scrolled": true
   },
   "outputs": [],
   "source": [
    "df_new.columns"
   ]
  },
  {
   "cell_type": "markdown",
   "id": "discrete-account",
   "metadata": {
    "hidden": true
   },
   "source": [
    "### Delete missing values"
   ]
  },
  {
   "cell_type": "markdown",
   "id": "enhanced-manhattan",
   "metadata": {
    "hidden": true
   },
   "source": [
    "The only missing values are in the score feature.\n",
    "We are told that the missing values are because the level of drought is provided weekly.\n",
    "As drought is long-term process, we can safely assume that the level of drought remain stable trought the week.\n",
    "\n",
    "We delete the missing values and only keep lines with the weekly results"
   ]
  },
  {
   "cell_type": "code",
   "execution_count": null,
   "id": "dress-financing",
   "metadata": {
    "hidden": true,
    "scrolled": false
   },
   "outputs": [],
   "source": [
    "df_new.dropna(inplace=True)"
   ]
  },
  {
   "cell_type": "code",
   "execution_count": null,
   "id": "instructional-steps",
   "metadata": {
    "hidden": true,
    "scrolled": true
   },
   "outputs": [],
   "source": [
    "df_new['score']"
   ]
  },
  {
   "cell_type": "markdown",
   "id": "different-relation",
   "metadata": {
    "hidden": true
   },
   "source": [
    "### Intermediary saving"
   ]
  },
  {
   "cell_type": "code",
   "execution_count": null,
   "id": "pressing-adult",
   "metadata": {
    "hidden": true
   },
   "outputs": [],
   "source": [
    "#not to reload from scratch because de files are heavy\n",
    "df_new.to_csv('clean_data.csv')"
   ]
  },
  {
   "cell_type": "code",
   "execution_count": 6,
   "id": "numeric-shelter",
   "metadata": {
    "hidden": true
   },
   "outputs": [],
   "source": [
    "path_to_final = '{}clean_data.csv'.format(path_to_droughts)\n",
    "data = pd.read_csv(path_to_final, low_memory = False)"
   ]
  },
  {
   "cell_type": "code",
   "execution_count": 7,
   "id": "micro-inquiry",
   "metadata": {
    "hidden": true
   },
   "outputs": [],
   "source": [
    "data.drop('Unnamed: 0',axis=1,inplace=True)"
   ]
  },
  {
   "cell_type": "markdown",
   "id": "infinite-housing",
   "metadata": {
    "hidden": true
   },
   "source": [
    "### Add Climate Zone"
   ]
  },
  {
   "cell_type": "markdown",
   "id": "becoming-glass",
   "metadata": {
    "hidden": true
   },
   "source": [
    "We split the data by climate zone, as we want to focus on Hot Climate. To do so we use another dataset found on GitHub:\n",
    "https://gist.github.com/philngo/d3e251040569dba67942"
   ]
  },
  {
   "cell_type": "code",
   "execution_count": 9,
   "id": "rolled-interstate",
   "metadata": {
    "hidden": true,
    "scrolled": true
   },
   "outputs": [
    {
     "data": {
      "text/html": [
       "<div>\n",
       "<style scoped>\n",
       "    .dataframe tbody tr th:only-of-type {\n",
       "        vertical-align: middle;\n",
       "    }\n",
       "\n",
       "    .dataframe tbody tr th {\n",
       "        vertical-align: top;\n",
       "    }\n",
       "\n",
       "    .dataframe thead th {\n",
       "        text-align: right;\n",
       "    }\n",
       "</style>\n",
       "<table border=\"1\" class=\"dataframe\">\n",
       "  <thead>\n",
       "    <tr style=\"text-align: right;\">\n",
       "      <th></th>\n",
       "      <th>State</th>\n",
       "      <th>State FIPS</th>\n",
       "      <th>County FIPS</th>\n",
       "      <th>IECC Climate Zone</th>\n",
       "      <th>IECC Moisture Regime</th>\n",
       "      <th>BA Climate Zone</th>\n",
       "      <th>County Name</th>\n",
       "    </tr>\n",
       "  </thead>\n",
       "  <tbody>\n",
       "    <tr>\n",
       "      <th>0</th>\n",
       "      <td>AK</td>\n",
       "      <td>2</td>\n",
       "      <td>13</td>\n",
       "      <td>7</td>\n",
       "      <td>NaN</td>\n",
       "      <td>Very Cold</td>\n",
       "      <td>Aleutians East</td>\n",
       "    </tr>\n",
       "    <tr>\n",
       "      <th>1</th>\n",
       "      <td>AK</td>\n",
       "      <td>2</td>\n",
       "      <td>16</td>\n",
       "      <td>7</td>\n",
       "      <td>NaN</td>\n",
       "      <td>Very Cold</td>\n",
       "      <td>Aleutians West</td>\n",
       "    </tr>\n",
       "    <tr>\n",
       "      <th>2</th>\n",
       "      <td>AK</td>\n",
       "      <td>2</td>\n",
       "      <td>20</td>\n",
       "      <td>7</td>\n",
       "      <td>NaN</td>\n",
       "      <td>Very Cold</td>\n",
       "      <td>Anchorage</td>\n",
       "    </tr>\n",
       "    <tr>\n",
       "      <th>3</th>\n",
       "      <td>AK</td>\n",
       "      <td>2</td>\n",
       "      <td>50</td>\n",
       "      <td>8</td>\n",
       "      <td>NaN</td>\n",
       "      <td>Subarctic</td>\n",
       "      <td>Bethel</td>\n",
       "    </tr>\n",
       "    <tr>\n",
       "      <th>4</th>\n",
       "      <td>AK</td>\n",
       "      <td>2</td>\n",
       "      <td>60</td>\n",
       "      <td>7</td>\n",
       "      <td>NaN</td>\n",
       "      <td>Very Cold</td>\n",
       "      <td>Bristol Bay</td>\n",
       "    </tr>\n",
       "  </tbody>\n",
       "</table>\n",
       "</div>"
      ],
      "text/plain": [
       "  State  State FIPS  County FIPS  IECC Climate Zone IECC Moisture Regime  \\\n",
       "0    AK           2           13                  7                  NaN   \n",
       "1    AK           2           16                  7                  NaN   \n",
       "2    AK           2           20                  7                  NaN   \n",
       "3    AK           2           50                  8                  NaN   \n",
       "4    AK           2           60                  7                  NaN   \n",
       "\n",
       "  BA Climate Zone     County Name  \n",
       "0       Very Cold  Aleutians East  \n",
       "1       Very Cold  Aleutians West  \n",
       "2       Very Cold       Anchorage  \n",
       "3       Subarctic          Bethel  \n",
       "4       Very Cold     Bristol Bay  "
      ]
     },
     "execution_count": 9,
     "metadata": {},
     "output_type": "execute_result"
    }
   ],
   "source": [
    "path_to_zones = '{}climate_zones.csv'.format(path_to_droughts)\n",
    "df_zones=pd.read_csv(path_to_zones,low_memory = False)\n",
    "df_zones.head()"
   ]
  },
  {
   "cell_type": "code",
   "execution_count": 10,
   "id": "least-solution",
   "metadata": {
    "hidden": true
   },
   "outputs": [],
   "source": [
    "#We uniformize the Fips Code to have a unique identifier between the 2 datasets\n",
    "\n",
    "for i in range(len(df_zones['County FIPS'])-1):\n",
    "    if len(str(df_zones.loc[i,'County FIPS']))==2:\n",
    "        df_zones.loc[i,'County FIPS']='0'+str(df_zones.loc[i,'County FIPS'])\n",
    "    if len(str(df_zones.loc[i,'County FIPS']))==1:\n",
    "        df_zones.loc[i,'County FIPS']='00'+str(df_zones.loc[i,'County FIPS'])"
   ]
  },
  {
   "cell_type": "code",
   "execution_count": 11,
   "id": "swiss-complement",
   "metadata": {
    "hidden": true,
    "scrolled": true
   },
   "outputs": [],
   "source": [
    "#We create a new fips column\n",
    "\n",
    "df_zones['fips']= df_zones['State FIPS'].astype(str)+df_zones['County FIPS'].astype(str)\n",
    "df_zones['fips']=df_zones['fips'].astype(int)"
   ]
  },
  {
   "cell_type": "code",
   "execution_count": 12,
   "id": "liberal-roulette",
   "metadata": {
    "hidden": true
   },
   "outputs": [],
   "source": [
    "#We merge on fips with the main dataframe\n",
    "\n",
    "data=data.merge(df_zones[['BA Climate Zone','fips']],on='fips')"
   ]
  },
  {
   "cell_type": "code",
   "execution_count": 13,
   "id": "russian-primary",
   "metadata": {
    "hidden": true,
    "scrolled": true
   },
   "outputs": [
    {
     "data": {
      "text/html": [
       "<div>\n",
       "<style scoped>\n",
       "    .dataframe tbody tr th:only-of-type {\n",
       "        vertical-align: middle;\n",
       "    }\n",
       "\n",
       "    .dataframe tbody tr th {\n",
       "        vertical-align: top;\n",
       "    }\n",
       "\n",
       "    .dataframe thead th {\n",
       "        text-align: right;\n",
       "    }\n",
       "</style>\n",
       "<table border=\"1\" class=\"dataframe\">\n",
       "  <thead>\n",
       "    <tr style=\"text-align: right;\">\n",
       "      <th></th>\n",
       "      <th>fips</th>\n",
       "      <th>PRECTOT</th>\n",
       "      <th>PS</th>\n",
       "      <th>QV2M</th>\n",
       "      <th>T2M</th>\n",
       "      <th>T2MDEW</th>\n",
       "      <th>T2MWET</th>\n",
       "      <th>T2M_MAX</th>\n",
       "      <th>T2M_MIN</th>\n",
       "      <th>T2M_RANGE</th>\n",
       "      <th>...</th>\n",
       "      <th>WS50M_MAX</th>\n",
       "      <th>WS50M_MIN</th>\n",
       "      <th>WS50M_RANGE</th>\n",
       "      <th>score</th>\n",
       "      <th>Year</th>\n",
       "      <th>Month</th>\n",
       "      <th>Week</th>\n",
       "      <th>Day</th>\n",
       "      <th>Day_of_year</th>\n",
       "      <th>BA Climate Zone</th>\n",
       "    </tr>\n",
       "  </thead>\n",
       "  <tbody>\n",
       "    <tr>\n",
       "      <th>0</th>\n",
       "      <td>1001</td>\n",
       "      <td>15.95</td>\n",
       "      <td>100.29</td>\n",
       "      <td>6.42</td>\n",
       "      <td>11.40</td>\n",
       "      <td>6.09</td>\n",
       "      <td>6.10</td>\n",
       "      <td>18.09</td>\n",
       "      <td>2.16</td>\n",
       "      <td>15.92</td>\n",
       "      <td>...</td>\n",
       "      <td>9.31</td>\n",
       "      <td>3.74</td>\n",
       "      <td>5.58</td>\n",
       "      <td>1.0</td>\n",
       "      <td>2000</td>\n",
       "      <td>1</td>\n",
       "      <td>1</td>\n",
       "      <td>4</td>\n",
       "      <td>4</td>\n",
       "      <td>Hot-Humid</td>\n",
       "    </tr>\n",
       "    <tr>\n",
       "      <th>1</th>\n",
       "      <td>1001</td>\n",
       "      <td>1.33</td>\n",
       "      <td>100.40</td>\n",
       "      <td>6.63</td>\n",
       "      <td>11.48</td>\n",
       "      <td>7.84</td>\n",
       "      <td>7.84</td>\n",
       "      <td>18.88</td>\n",
       "      <td>5.72</td>\n",
       "      <td>13.16</td>\n",
       "      <td>...</td>\n",
       "      <td>6.38</td>\n",
       "      <td>1.71</td>\n",
       "      <td>4.67</td>\n",
       "      <td>2.0</td>\n",
       "      <td>2000</td>\n",
       "      <td>1</td>\n",
       "      <td>2</td>\n",
       "      <td>11</td>\n",
       "      <td>11</td>\n",
       "      <td>Hot-Humid</td>\n",
       "    </tr>\n",
       "    <tr>\n",
       "      <th>2</th>\n",
       "      <td>1001</td>\n",
       "      <td>1.11</td>\n",
       "      <td>100.39</td>\n",
       "      <td>9.53</td>\n",
       "      <td>14.28</td>\n",
       "      <td>13.26</td>\n",
       "      <td>13.26</td>\n",
       "      <td>18.04</td>\n",
       "      <td>8.98</td>\n",
       "      <td>9.06</td>\n",
       "      <td>...</td>\n",
       "      <td>6.40</td>\n",
       "      <td>3.84</td>\n",
       "      <td>2.55</td>\n",
       "      <td>2.0</td>\n",
       "      <td>2000</td>\n",
       "      <td>1</td>\n",
       "      <td>3</td>\n",
       "      <td>18</td>\n",
       "      <td>18</td>\n",
       "      <td>Hot-Humid</td>\n",
       "    </tr>\n",
       "    <tr>\n",
       "      <th>3</th>\n",
       "      <td>1001</td>\n",
       "      <td>0.00</td>\n",
       "      <td>100.11</td>\n",
       "      <td>2.05</td>\n",
       "      <td>-0.78</td>\n",
       "      <td>-7.93</td>\n",
       "      <td>-7.72</td>\n",
       "      <td>5.65</td>\n",
       "      <td>-5.46</td>\n",
       "      <td>11.11</td>\n",
       "      <td>...</td>\n",
       "      <td>8.03</td>\n",
       "      <td>3.96</td>\n",
       "      <td>4.07</td>\n",
       "      <td>2.0</td>\n",
       "      <td>2000</td>\n",
       "      <td>1</td>\n",
       "      <td>4</td>\n",
       "      <td>25</td>\n",
       "      <td>25</td>\n",
       "      <td>Hot-Humid</td>\n",
       "    </tr>\n",
       "    <tr>\n",
       "      <th>4</th>\n",
       "      <td>1001</td>\n",
       "      <td>0.00</td>\n",
       "      <td>101.00</td>\n",
       "      <td>3.36</td>\n",
       "      <td>2.06</td>\n",
       "      <td>-1.73</td>\n",
       "      <td>-1.70</td>\n",
       "      <td>11.02</td>\n",
       "      <td>-4.21</td>\n",
       "      <td>15.23</td>\n",
       "      <td>...</td>\n",
       "      <td>6.38</td>\n",
       "      <td>1.27</td>\n",
       "      <td>5.11</td>\n",
       "      <td>1.0</td>\n",
       "      <td>2000</td>\n",
       "      <td>2</td>\n",
       "      <td>5</td>\n",
       "      <td>1</td>\n",
       "      <td>32</td>\n",
       "      <td>Hot-Humid</td>\n",
       "    </tr>\n",
       "  </tbody>\n",
       "</table>\n",
       "<p>5 rows × 26 columns</p>\n",
       "</div>"
      ],
      "text/plain": [
       "   fips  PRECTOT      PS  QV2M    T2M  T2MDEW  T2MWET  T2M_MAX  T2M_MIN  \\\n",
       "0  1001    15.95  100.29  6.42  11.40    6.09    6.10    18.09     2.16   \n",
       "1  1001     1.33  100.40  6.63  11.48    7.84    7.84    18.88     5.72   \n",
       "2  1001     1.11  100.39  9.53  14.28   13.26   13.26    18.04     8.98   \n",
       "3  1001     0.00  100.11  2.05  -0.78   -7.93   -7.72     5.65    -5.46   \n",
       "4  1001     0.00  101.00  3.36   2.06   -1.73   -1.70    11.02    -4.21   \n",
       "\n",
       "   T2M_RANGE  ...  WS50M_MAX  WS50M_MIN  WS50M_RANGE  score  Year  Month  \\\n",
       "0      15.92  ...       9.31       3.74         5.58    1.0  2000      1   \n",
       "1      13.16  ...       6.38       1.71         4.67    2.0  2000      1   \n",
       "2       9.06  ...       6.40       3.84         2.55    2.0  2000      1   \n",
       "3      11.11  ...       8.03       3.96         4.07    2.0  2000      1   \n",
       "4      15.23  ...       6.38       1.27         5.11    1.0  2000      2   \n",
       "\n",
       "   Week  Day  Day_of_year  BA Climate Zone  \n",
       "0     1    4            4        Hot-Humid  \n",
       "1     2   11           11        Hot-Humid  \n",
       "2     3   18           18        Hot-Humid  \n",
       "3     4   25           25        Hot-Humid  \n",
       "4     5    1           32        Hot-Humid  \n",
       "\n",
       "[5 rows x 26 columns]"
      ]
     },
     "execution_count": 13,
     "metadata": {},
     "output_type": "execute_result"
    }
   ],
   "source": [
    "data.head()"
   ]
  },
  {
   "cell_type": "markdown",
   "id": "collect-medication",
   "metadata": {
    "hidden": true
   },
   "source": [
    "### Splitting"
   ]
  },
  {
   "cell_type": "code",
   "execution_count": 14,
   "id": "legendary-interval",
   "metadata": {
    "hidden": true
   },
   "outputs": [],
   "source": [
    "df=data.copy()"
   ]
  },
  {
   "cell_type": "code",
   "execution_count": 15,
   "id": "latest-richmond",
   "metadata": {
    "hidden": true
   },
   "outputs": [],
   "source": [
    "df_hot=df[(df['BA Climate Zone']=='Hot-Dry') | (df['BA Climate Zone']=='Hot-Humid')]"
   ]
  },
  {
   "cell_type": "markdown",
   "id": "potential-clinton",
   "metadata": {
    "hidden": true
   },
   "source": [
    "We split our data into training, validation and test.\n",
    "- **Training set**: Data through the end of 2016 in Hot climate\n",
    "- **Validation set**: Data from January 1, 2017 to December 31, 2018 in Hot climate\n",
    "- **Test set**: Data from January 1, 2019 to December 31, 2020 in Hot Climate"
   ]
  },
  {
   "cell_type": "code",
   "execution_count": 20,
   "id": "engaged-stranger",
   "metadata": {
    "hidden": true
   },
   "outputs": [
    {
     "data": {
      "text/plain": [
       "(484302, 56784, 57330)"
      ]
     },
     "execution_count": 20,
     "metadata": {},
     "output_type": "execute_result"
    }
   ],
   "source": [
    "df_train = df_hot[df_hot.Year <2017]\n",
    "df_val = df_hot[(2017 <= df_hot.Year) & (df_hot.Year<2019)]\n",
    "df_test = df_hot[(2019 <= df_hot.Year)]\n",
    "\n",
    "len(df_train), len(df_val), len(df_test)"
   ]
  },
  {
   "cell_type": "code",
   "execution_count": 21,
   "id": "empirical-exhibit",
   "metadata": {
    "hidden": true
   },
   "outputs": [
    {
     "name": "stderr",
     "output_type": "stream",
     "text": [
      "/var/folders/2g/7m1dzwts2xndbnmd_36crr8r0000gn/T/ipykernel_5990/2566056671.py:1: SettingWithCopyWarning: \n",
      "A value is trying to be set on a copy of a slice from a DataFrame.\n",
      "Try using .loc[row_indexer,col_indexer] = value instead\n",
      "\n",
      "See the caveats in the documentation: https://pandas.pydata.org/pandas-docs/stable/user_guide/indexing.html#returning-a-view-versus-a-copy\n",
      "  df_train.loc[:,'score']=df_train['score'].round().astype(int).astype(\"category\")\n",
      "/var/folders/2g/7m1dzwts2xndbnmd_36crr8r0000gn/T/ipykernel_5990/2566056671.py:2: SettingWithCopyWarning: \n",
      "A value is trying to be set on a copy of a slice from a DataFrame.\n",
      "Try using .loc[row_indexer,col_indexer] = value instead\n",
      "\n",
      "See the caveats in the documentation: https://pandas.pydata.org/pandas-docs/stable/user_guide/indexing.html#returning-a-view-versus-a-copy\n",
      "  df_val.loc[:,'score']=df_val['score'].round().astype(int).astype(\"category\")\n",
      "/var/folders/2g/7m1dzwts2xndbnmd_36crr8r0000gn/T/ipykernel_5990/2566056671.py:3: SettingWithCopyWarning: \n",
      "A value is trying to be set on a copy of a slice from a DataFrame.\n",
      "Try using .loc[row_indexer,col_indexer] = value instead\n",
      "\n",
      "See the caveats in the documentation: https://pandas.pydata.org/pandas-docs/stable/user_guide/indexing.html#returning-a-view-versus-a-copy\n",
      "  df_test.loc[:,'score']=df_test['score'].round().astype(int).astype(\"category\")\n"
     ]
    }
   ],
   "source": [
    "df_train.loc[:,'score']=df_train['score'].round().astype(int).astype(\"category\")\n",
    "df_val.loc[:,'score']=df_val['score'].round().astype(int).astype(\"category\")\n",
    "df_test.loc[:,'score']=df_test['score'].round().astype(int).astype(\"category\")"
   ]
  },
  {
   "cell_type": "code",
   "execution_count": 23,
   "id": "convinced-london",
   "metadata": {
    "hidden": true,
    "scrolled": false
   },
   "outputs": [
    {
     "data": {
      "text/plain": [
       "((484302, 24), (484302,), (56784, 24), (56784,), (57330, 24), (57330,))"
      ]
     },
     "execution_count": 23,
     "metadata": {},
     "output_type": "execute_result"
    }
   ],
   "source": [
    "# Split data into X and y\n",
    "\n",
    "X_train_df, y_train_df = df_train.drop([\"score\",\"BA Climate Zone\"], axis=1), df_train.score\n",
    "X_valid_df, y_valid_df = df_val.drop([\"score\",\"BA Climate Zone\"], axis=1), df_val.score\n",
    "X_test_df, y_test_df = df_test.drop([\"score\",\"BA Climate Zone\"], axis=1), df_test.score\n",
    "\n",
    "\n",
    "# Check the shape of our X and y variables\n",
    "X_train_df.shape, y_train_df.shape, X_valid_df.shape, y_valid_df.shape,X_test_df.shape, y_test_df.shape"
   ]
  },
  {
   "cell_type": "markdown",
   "id": "earned-worry",
   "metadata": {
    "hidden": true
   },
   "source": [
    "### Normalization"
   ]
  },
  {
   "cell_type": "code",
   "execution_count": 25,
   "id": "mental-lawsuit",
   "metadata": {
    "hidden": true,
    "scrolled": true
   },
   "outputs": [
    {
     "data": {
      "text/plain": [
       "((484302, 24), (484302,), (56784, 24), (56784,), (57330, 24), (57330,))"
      ]
     },
     "execution_count": 25,
     "metadata": {},
     "output_type": "execute_result"
    }
   ],
   "source": [
    "# Standardization\n",
    "mean, std = X_train_df.mean(), X_train_df.std()\n",
    "\n",
    "X_train_df = (X_train_df - mean)/std\n",
    "X_valid_df = (X_valid_df - mean)/std\n",
    "X_test_df  = (X_test_df - mean)/std\n",
    "\n",
    "X_train = X_train_df.to_numpy()\n",
    "y_train = y_train_df.to_numpy()\n",
    "\n",
    "X_valid = X_valid_df.to_numpy()\n",
    "y_valid = y_valid_df.to_numpy()\n",
    "\n",
    "X_test = X_test_df.to_numpy()\n",
    "y_test = y_test_df.to_numpy()\n",
    "\n",
    "\n",
    "X_train.shape,y_train.shape,X_valid.shape,y_valid.shape, X_test.shape,y_test.shape"
   ]
  },
  {
   "cell_type": "markdown",
   "id": "apart-stockholm",
   "metadata": {
    "heading_collapsed": true
   },
   "source": [
    "# Evaluation metric"
   ]
  },
  {
   "cell_type": "code",
   "execution_count": 26,
   "id": "annoying-halloween",
   "metadata": {
    "hidden": true
   },
   "outputs": [],
   "source": [
    "def print_valid_score(m, X_train, y_train, X_valid, y_valid):\n",
    "    \n",
    "    print('Accuracy on train set: {:.4f}'.format(accuracy_score(m.predict(X_train), y_train)))\n",
    "    print('Accuracy on valid set: {:.4f}'.format(accuracy_score(m.predict(X_valid), y_valid)))\n",
    "    \n",
    "    print('\\nRecall on train set: {:.4f}'.format(recall_score(m.predict(X_train), y_train,average='weighted',zero_division=1)))\n",
    "    print('Recall on valid set: {:.4f}'.format(recall_score(m.predict(X_valid), y_valid,average='weighted',zero_division=1)))\n",
    "\n",
    "    print('\\nPrecision on train set: {:.4f}'.format(precision_score(m.predict(X_train), y_train,average='weighted')))\n",
    "    print('Precision on valid set: {:.4f}'.format(precision_score(m.predict(X_valid), y_valid,average='weighted')))\n",
    "\n",
    "    print('\\nF1 Score on train set: {:.4f}'.format(f1_score(m.predict(X_train), y_train,average='weighted')))\n",
    "    print('F1 Score on valid set: {:.4f}'.format(f1_score(m.predict(X_valid), y_valid,average='weighted')))\n",
    "    return"
   ]
  },
  {
   "cell_type": "code",
   "execution_count": 27,
   "id": "brown-ladder",
   "metadata": {
    "hidden": true
   },
   "outputs": [],
   "source": [
    "def print_score(m,X_train, y_train, X_test, y_test):\n",
    "    \n",
    "    print('Accuracy on train set: {:.4f}'.format(accuracy_score(m.predict(X_train), y_train)))\n",
    "    print('Accuracy on test set: {:.4f}'.format(accuracy_score(m.predict(X_test), y_test)))\n",
    "    \n",
    "    print('\\nRecall on train set: {:.4f}'.format(recall_score(m.predict(X_train), y_train,average='weighted',zero_division=1)))\n",
    "    print('Recall on test set: {:.4f}'.format(recall_score(m.predict(X_test), y_test,average='weighted',zero_division=1)))\n",
    "\n",
    "    print('\\nPrecision on train set: {:.4f}'.format(precision_score(m.predict(X_train), y_train,average='weighted')))\n",
    "    print('Precision on test set: {:.4f}'.format(precision_score(m.predict(X_test), y_test,average='weighted')))\n",
    "\n",
    "    print('\\nF1 Score on train set: {:.4f}'.format(f1_score(m.predict(X_train), y_train,average='weighted')))\n",
    "    print('F1 Score on test set: {:.4f}'.format(f1_score(m.predict(X_test), y_test,average='weighted')))\n",
    "    return"
   ]
  },
  {
   "cell_type": "markdown",
   "id": "private-harbor",
   "metadata": {
    "heading_collapsed": true
   },
   "source": [
    "# Baseline model - Vanilla Neural Network Model"
   ]
  },
  {
   "cell_type": "markdown",
   "id": "scientific-utilization",
   "metadata": {
    "hidden": true
   },
   "source": [
    "I trained a vanilla Neural Network Model from scratch to predict drought level in Counties with a hot climate. This a base line model. "
   ]
  },
  {
   "cell_type": "code",
   "execution_count": 28,
   "id": "worst-sheffield",
   "metadata": {
    "hidden": true
   },
   "outputs": [],
   "source": [
    "y_train=y_train.reshape(484302,1)\n",
    "y_valid=y_valid.reshape(56784,1)\n",
    "y_test=y_test.reshape(57330,1)"
   ]
  },
  {
   "cell_type": "code",
   "execution_count": 29,
   "id": "monetary-origin",
   "metadata": {
    "hidden": true
   },
   "outputs": [],
   "source": [
    "# set hyperparameters\n",
    "n_neuron       = 50\n",
    "activation     = 'relu'\n",
    "num_epochs     = 40\n",
    "learning_rate  = 0.0001\n",
    "minibatch_size = 64"
   ]
  },
  {
   "cell_type": "code",
   "execution_count": 30,
   "id": "attempted-flash",
   "metadata": {
    "hidden": true,
    "scrolled": true
   },
   "outputs": [
    {
     "name": "stderr",
     "output_type": "stream",
     "text": [
      "2022-12-21 17:48:45.785698: I tensorflow/core/platform/cpu_feature_guard.cc:193] This TensorFlow binary is optimized with oneAPI Deep Neural Network Library (oneDNN) to use the following CPU instructions in performance-critical operations:  SSE4.1 SSE4.2\n",
      "To enable them in other operations, rebuild TensorFlow with the appropriate compiler flags.\n"
     ]
    }
   ],
   "source": [
    "nn_model = Sequential()\n",
    "\n",
    "nn_model.add(Dense(n_neuron,  activation=activation,input_shape=(X_train.shape[1],))) #  the 1st hidden layer \n",
    "nn_model.add(Dense(n_neuron,  activation=activation)) # the 2nd hidden layer\n",
    "nn_model.add(Dense(n_neuron,  activation=activation)) # the 3rd hidden layer\n",
    "nn_model.add(Dense(y_train.shape[1],  activation='softmax')) # the output layer\n",
    "\n",
    "\n",
    "nn_model.compile(loss='categorical_crossentropy', optimizer='adam', metrics=['acc'])"
   ]
  },
  {
   "cell_type": "code",
   "execution_count": 31,
   "id": "stuck-china",
   "metadata": {
    "hidden": true,
    "scrolled": true
   },
   "outputs": [
    {
     "name": "stdout",
     "output_type": "stream",
     "text": [
      "Epoch 1/40\n",
      "7568/7568 [==============================] - 6s 713us/step - loss: 0.0000e+00 - acc: 0.1719 - val_loss: 0.0000e+00 - val_acc: 0.2010\n",
      "Epoch 2/40\n",
      "7568/7568 [==============================] - 6s 774us/step - loss: 0.0000e+00 - acc: 0.1719 - val_loss: 0.0000e+00 - val_acc: 0.2010\n",
      "Epoch 3/40\n",
      "7568/7568 [==============================] - 5s 707us/step - loss: 0.0000e+00 - acc: 0.1719 - val_loss: 0.0000e+00 - val_acc: 0.2010\n",
      "Epoch 4/40\n",
      "7568/7568 [==============================] - 6s 737us/step - loss: 0.0000e+00 - acc: 0.1719 - val_loss: 0.0000e+00 - val_acc: 0.2010\n",
      "Epoch 5/40\n",
      "7568/7568 [==============================] - 6s 729us/step - loss: 0.0000e+00 - acc: 0.1719 - val_loss: 0.0000e+00 - val_acc: 0.2010\n",
      "Epoch 6/40\n",
      "7568/7568 [==============================] - 6s 737us/step - loss: 0.0000e+00 - acc: 0.1719 - val_loss: 0.0000e+00 - val_acc: 0.2010\n",
      "Epoch 7/40\n",
      "7568/7568 [==============================] - 5s 708us/step - loss: 0.0000e+00 - acc: 0.1719 - val_loss: 0.0000e+00 - val_acc: 0.2010\n",
      "Epoch 8/40\n",
      "7568/7568 [==============================] - 5s 696us/step - loss: 0.0000e+00 - acc: 0.1719 - val_loss: 0.0000e+00 - val_acc: 0.2010\n",
      "Epoch 9/40\n",
      "7568/7568 [==============================] - 5s 693us/step - loss: 0.0000e+00 - acc: 0.1719 - val_loss: 0.0000e+00 - val_acc: 0.2010\n",
      "Epoch 10/40\n",
      "7568/7568 [==============================] - 5s 672us/step - loss: 0.0000e+00 - acc: 0.1719 - val_loss: 0.0000e+00 - val_acc: 0.2010\n",
      "Epoch 11/40\n",
      "7568/7568 [==============================] - 5s 673us/step - loss: 0.0000e+00 - acc: 0.1719 - val_loss: 0.0000e+00 - val_acc: 0.2010\n",
      "Epoch 12/40\n",
      "7568/7568 [==============================] - 5s 680us/step - loss: 0.0000e+00 - acc: 0.1719 - val_loss: 0.0000e+00 - val_acc: 0.2010\n",
      "Epoch 13/40\n",
      "7568/7568 [==============================] - 5s 669us/step - loss: 0.0000e+00 - acc: 0.1719 - val_loss: 0.0000e+00 - val_acc: 0.2010\n",
      "Epoch 14/40\n",
      "7568/7568 [==============================] - 5s 670us/step - loss: 0.0000e+00 - acc: 0.1719 - val_loss: 0.0000e+00 - val_acc: 0.2010\n",
      "Epoch 15/40\n",
      "7568/7568 [==============================] - 5s 676us/step - loss: 0.0000e+00 - acc: 0.1719 - val_loss: 0.0000e+00 - val_acc: 0.2010\n",
      "Epoch 16/40\n",
      "7568/7568 [==============================] - 5s 674us/step - loss: 0.0000e+00 - acc: 0.1719 - val_loss: 0.0000e+00 - val_acc: 0.2010\n",
      "Epoch 17/40\n",
      "7568/7568 [==============================] - 5s 685us/step - loss: 0.0000e+00 - acc: 0.1719 - val_loss: 0.0000e+00 - val_acc: 0.2010\n",
      "Epoch 18/40\n",
      "7568/7568 [==============================] - 5s 695us/step - loss: 0.0000e+00 - acc: 0.1719 - val_loss: 0.0000e+00 - val_acc: 0.2010\n",
      "Epoch 19/40\n",
      "7568/7568 [==============================] - 5s 681us/step - loss: 0.0000e+00 - acc: 0.1719 - val_loss: 0.0000e+00 - val_acc: 0.2010\n",
      "Epoch 20/40\n",
      "7568/7568 [==============================] - 5s 702us/step - loss: 0.0000e+00 - acc: 0.1719 - val_loss: 0.0000e+00 - val_acc: 0.2010\n",
      "Epoch 21/40\n",
      "7568/7568 [==============================] - 6s 811us/step - loss: 0.0000e+00 - acc: 0.1719 - val_loss: 0.0000e+00 - val_acc: 0.2010\n"
     ]
    }
   ],
   "source": [
    "early_stop = keras.callbacks.EarlyStopping(monitor='val_acc', patience=20)\n",
    "\n",
    "\n",
    "history = nn_model.fit(X_train, y_train, \n",
    "                    batch_size      = minibatch_size,\n",
    "                    epochs          = num_epochs,\n",
    "                    verbose         = 1,\n",
    "                    validation_data=(X_valid,y_valid),\n",
    "                    callbacks       = [early_stop])"
   ]
  },
  {
   "cell_type": "code",
   "execution_count": 32,
   "id": "creative-toner",
   "metadata": {
    "hidden": true
   },
   "outputs": [
    {
     "name": "stdout",
     "output_type": "stream",
     "text": [
      "15135/15135 [==============================] - 6s 379us/step\n",
      "Accuracy on train set: 0.1719\n",
      "1775/1775 [==============================] - 1s 367us/step\n",
      "Accuracy on valid set: 0.2010\n",
      "15135/15135 [==============================] - 6s 367us/step\n",
      "\n",
      "Recall on train set: 0.1719\n",
      "1775/1775 [==============================] - 1s 367us/step\n",
      "Recall on valid set: 0.2010\n",
      "15135/15135 [==============================] - 6s 412us/step\n",
      "\n",
      "Precision on train set: 1.0000\n",
      "1775/1775 [==============================] - 1s 382us/step\n",
      "Precision on valid set: 1.0000\n",
      "15135/15135 [==============================] - 6s 382us/step\n",
      "\n",
      "F1 Score on train set: 0.2934\n",
      "1775/1775 [==============================] - 1s 380us/step\n",
      "F1 Score on valid set: 0.3347\n"
     ]
    }
   ],
   "source": [
    "print_valid_score(nn_model, X_train, y_train, X_valid, y_valid)"
   ]
  },
  {
   "cell_type": "code",
   "execution_count": 33,
   "id": "proprietary-coffee",
   "metadata": {
    "hidden": true,
    "scrolled": false
   },
   "outputs": [
    {
     "name": "stdout",
     "output_type": "stream",
     "text": [
      "15135/15135 [==============================] - 6s 379us/step\n",
      "Accuracy on train set: 0.1719\n",
      "1792/1792 [==============================] - 1s 388us/step\n",
      "Accuracy on test set: 0.1810\n",
      "15135/15135 [==============================] - 6s 372us/step\n",
      "\n",
      "Recall on train set: 0.1719\n",
      "1792/1792 [==============================] - 1s 369us/step\n",
      "Recall on test set: 0.1810\n",
      "15135/15135 [==============================] - 6s 368us/step\n",
      "\n",
      "Precision on train set: 1.0000\n",
      "1792/1792 [==============================] - 1s 371us/step\n",
      "Precision on test set: 1.0000\n",
      "15135/15135 [==============================] - 6s 371us/step\n",
      "\n",
      "F1 Score on train set: 0.2934\n",
      "1792/1792 [==============================] - 1s 375us/step\n",
      "F1 Score on test set: 0.3066\n"
     ]
    }
   ],
   "source": [
    "print_score(nn_model,X_train, y_train, X_test, y_test)"
   ]
  },
  {
   "cell_type": "markdown",
   "id": "allied-placement",
   "metadata": {
    "heading_collapsed": true
   },
   "source": [
    "# Fine-tuned Random Forest"
   ]
  },
  {
   "cell_type": "code",
   "execution_count": 29,
   "id": "potential-kelly",
   "metadata": {
    "hidden": true
   },
   "outputs": [],
   "source": [
    "y_train=y_train.reshape(484302,)\n",
    "y_valid=y_valid.reshape(56784,)\n",
    "y_test=y_test.reshape(57330,)"
   ]
  },
  {
   "cell_type": "markdown",
   "id": "collected-senate",
   "metadata": {
    "hidden": true
   },
   "source": [
    "## Pre fine tuning tests"
   ]
  },
  {
   "cell_type": "markdown",
   "id": "rough-syndicate",
   "metadata": {
    "heading_collapsed": true,
    "hidden": true
   },
   "source": [
    "##### Testing number of trees"
   ]
  },
  {
   "cell_type": "code",
   "execution_count": null,
   "id": "after-marketing",
   "metadata": {
    "hidden": true
   },
   "outputs": [],
   "source": [
    "model = RandomForestClassifier(n_estimators = 10, n_jobs = -1, random_state = 42)\n",
    "model.fit(X_train,y_train)\n",
    "print_score(model, X_train, y_train, X_valid, y_valid)"
   ]
  },
  {
   "cell_type": "code",
   "execution_count": null,
   "id": "guided-status",
   "metadata": {
    "hidden": true
   },
   "outputs": [],
   "source": [
    "model = RandomForestClassifier(n_estimators = 30, n_jobs = -1, random_state = 42)\n",
    "model.fit(X_train,y_train)\n",
    "print_score(model, X_train, y_train, X_valid, y_valid)"
   ]
  },
  {
   "cell_type": "code",
   "execution_count": null,
   "id": "turkish-suspect",
   "metadata": {
    "hidden": true,
    "scrolled": false
   },
   "outputs": [],
   "source": [
    "model = RandomForestClassifier(n_estimators = 50, n_jobs = -1, random_state = 42)\n",
    "model.fit(X_train,y_train)\n",
    "print_score(model, X_train, y_train, X_valid, y_valid)"
   ]
  },
  {
   "cell_type": "code",
   "execution_count": null,
   "id": "compact-favor",
   "metadata": {
    "hidden": true
   },
   "outputs": [],
   "source": [
    "model = RandomForestClassifier(n_estimators = 70, n_jobs = -1, random_state = 42)\n",
    "model.fit(X_train,y_train)\n",
    "print_score(model, X_train, y_train, X_valid, y_valid)"
   ]
  },
  {
   "cell_type": "markdown",
   "id": "egyptian-lucas",
   "metadata": {
    "heading_collapsed": true,
    "hidden": true
   },
   "source": [
    "##### Testing min_samples_leaf"
   ]
  },
  {
   "cell_type": "code",
   "execution_count": null,
   "id": "jewish-zealand",
   "metadata": {
    "hidden": true
   },
   "outputs": [],
   "source": [
    "model = RandomForestClassifier(n_estimators = 50,min_samples_leaf = 3, n_jobs = -1, random_state = 42)\n",
    "model.fit(X_train,y_train)\n",
    "print_score(model, X_train, y_train, X_valid, y_valid)"
   ]
  },
  {
   "cell_type": "code",
   "execution_count": null,
   "id": "medieval-representation",
   "metadata": {
    "hidden": true
   },
   "outputs": [],
   "source": [
    "model = RandomForestClassifier(n_estimators = 50,min_samples_leaf = 5, n_jobs = -1, random_state = 42)\n",
    "model.fit(X_train,y_train)\n",
    "print_score(model, X_train, y_train, X_valid, y_valid)"
   ]
  },
  {
   "cell_type": "code",
   "execution_count": null,
   "id": "spectacular-fifty",
   "metadata": {
    "hidden": true
   },
   "outputs": [],
   "source": [
    "model = RandomForestClassifier(n_estimators = 50,min_samples_leaf = 10, n_jobs = -1, random_state = 42)\n",
    "model.fit(X_train,y_train)\n",
    "print_score(model, X_train, y_train, X_valid, y_valid)"
   ]
  },
  {
   "cell_type": "code",
   "execution_count": null,
   "id": "signed-chile",
   "metadata": {
    "hidden": true
   },
   "outputs": [],
   "source": [
    "model = RandomForestClassifier(n_estimators = 50,min_samples_leaf = 20, n_jobs = -1, random_state = 42)\n",
    "model.fit(X_train,y_train)\n",
    "print_score(model, X_train, y_train, X_valid, y_valid)"
   ]
  },
  {
   "cell_type": "markdown",
   "id": "comfortable-ceramic",
   "metadata": {
    "heading_collapsed": true,
    "hidden": true
   },
   "source": [
    "##### testing max_depth"
   ]
  },
  {
   "cell_type": "code",
   "execution_count": null,
   "id": "continuous-rabbit",
   "metadata": {
    "hidden": true
   },
   "outputs": [],
   "source": [
    "model = RandomForestClassifier(n_estimators = 50, max_depth=2, n_jobs = -1, random_state = 42)\n",
    "model.fit(X_train,y_train)\n",
    "print_score(model, X_train, y_train, X_valid, y_valid)"
   ]
  },
  {
   "cell_type": "code",
   "execution_count": null,
   "id": "stable-seminar",
   "metadata": {
    "hidden": true
   },
   "outputs": [],
   "source": [
    "model = RandomForestClassifier(n_estimators = 50, max_depth=4, n_jobs = -1, random_state = 42)\n",
    "model.fit(X_train,y_train)\n",
    "print_score(model, X_train, y_train, X_valid, y_valid)"
   ]
  },
  {
   "cell_type": "code",
   "execution_count": null,
   "id": "complete-throw",
   "metadata": {
    "hidden": true
   },
   "outputs": [],
   "source": [
    "model = RandomForestClassifier(n_estimators = 50, max_depth=5, n_jobs = -1, random_state = 42)\n",
    "model.fit(X_train,y_train)\n",
    "print_score(model, X_train, y_train, X_valid, y_valid)"
   ]
  },
  {
   "cell_type": "code",
   "execution_count": null,
   "id": "serious-louisville",
   "metadata": {
    "hidden": true
   },
   "outputs": [],
   "source": [
    "model = RandomForestClassifier(n_estimators = 50, max_depth=7, n_jobs = -1, random_state = 42)\n",
    "model.fit(X_train,y_train)\n",
    "print_score(model, X_train, y_train, X_valid, y_valid)"
   ]
  },
  {
   "cell_type": "code",
   "execution_count": null,
   "id": "international-variance",
   "metadata": {
    "hidden": true
   },
   "outputs": [],
   "source": [
    "model = RandomForestClassifier(n_estimators = 50, max_depth=10, n_jobs = -1, random_state = 42)\n",
    "model.fit(X_train,y_train)\n",
    "print_score(model, X_train, y_train, X_valid, y_valid)"
   ]
  },
  {
   "cell_type": "code",
   "execution_count": null,
   "id": "experimental-confidentiality",
   "metadata": {
    "hidden": true
   },
   "outputs": [],
   "source": [
    "model = RandomForestClassifier(n_estimators = 50, max_depth=20, n_jobs = -1, random_state = 42)\n",
    "model.fit(X_train,y_train)\n",
    "print_score(model, X_train, y_train, X_valid, y_valid)"
   ]
  },
  {
   "cell_type": "markdown",
   "id": "greater-romance",
   "metadata": {
    "hidden": true
   },
   "source": [
    "## Parameter Grid"
   ]
  },
  {
   "cell_type": "code",
   "execution_count": 30,
   "id": "advised-fitting",
   "metadata": {
    "hidden": true
   },
   "outputs": [],
   "source": [
    "random_grid1 = {'n_estimators': [15,20,30,45,60],\n",
    "               'max_features':[None,'sqrt'], \n",
    "               'max_depth':[None,10, 20, 25],\n",
    "               'min_samples_leaf':[3,7,10,16],\n",
    "               'max_samples':[None,0.5,0.25],\n",
    "               'min_samples_split':[2,5,10,15,25],           \n",
    "             }"
   ]
  },
  {
   "cell_type": "code",
   "execution_count": 31,
   "id": "stuffed-proportion",
   "metadata": {
    "hidden": true,
    "scrolled": true
   },
   "outputs": [
    {
     "name": "stdout",
     "output_type": "stream",
     "text": [
      "Fitting 3 folds for each of 5 candidates, totalling 15 fits\n",
      "[CV] END max_depth=25, max_features=None, max_samples=0.5, min_samples_leaf=10, min_samples_split=15, n_estimators=30; total time= 2.9min\n",
      "[CV] END max_depth=None, max_features=None, max_samples=0.5, min_samples_leaf=16, min_samples_split=25, n_estimators=20; total time= 1.7min\n",
      "CPU times: user 15.6 s, sys: 547 ms, total: 16.2 s\n",
      "Wall time: 9min 50s\n",
      "The best hyperparameters: \n",
      " {'n_estimators': 60, 'min_samples_split': 15, 'min_samples_leaf': 10, 'max_samples': 0.25, 'max_features': 'sqrt', 'max_depth': 10}\n"
     ]
    }
   ],
   "source": [
    "class1 = RandomForestClassifier(random_state=42)\n",
    "\n",
    "rf_random = RandomizedSearchCV(estimator = class1, param_distributions = random_grid1, \n",
    "                                n_iter = 5, cv = 3, verbose=2, n_jobs = -1)\n",
    "\n",
    "%time rf_drought = rf_random.fit(X_train,y_train)\n",
    "\n",
    "print(\"The best hyperparameters: \\n\",rf_drought.best_params_)"
   ]
  },
  {
   "cell_type": "code",
   "execution_count": 32,
   "id": "cultural-cursor",
   "metadata": {
    "hidden": true
   },
   "outputs": [
    {
     "data": {
      "text/plain": [
       "RandomForestClassifier(max_depth=10, max_features='sqrt', max_samples=0.25,\n",
       "                       min_samples_leaf=10, min_samples_split=15,\n",
       "                       n_estimators=60, random_state=42)"
      ]
     },
     "execution_count": 32,
     "metadata": {},
     "output_type": "execute_result"
    }
   ],
   "source": [
    "model_rf = rf_drought.best_estimator_\n",
    "model_rf"
   ]
  },
  {
   "cell_type": "code",
   "execution_count": 96,
   "id": "indirect-liquid",
   "metadata": {
    "hidden": true,
    "scrolled": false
   },
   "outputs": [
    {
     "name": "stdout",
     "output_type": "stream",
     "text": [
      "Accuracy on train set: 0.5554\n",
      "Accuracy on valid set: 0.6133\n",
      "\n",
      "Recall on train set: 0.5554\n",
      "Recall on valid set: 0.6133\n",
      "\n",
      "Precision on train set: 0.9023\n",
      "Precision on valid set: 0.9625\n",
      "\n",
      "F1 Score on train set: 0.6615\n",
      "F1 Score on valid set: 0.7461\n"
     ]
    }
   ],
   "source": [
    "print_valid_score(model_rf, X_train, y_train, X_valid, y_valid)"
   ]
  },
  {
   "cell_type": "code",
   "execution_count": 97,
   "id": "missing-linux",
   "metadata": {
    "hidden": true,
    "scrolled": true
   },
   "outputs": [
    {
     "name": "stdout",
     "output_type": "stream",
     "text": [
      "Accuracy on train set: 0.5554\n",
      "Accuracy on test set: 0.6378\n",
      "\n",
      "Recall on train set: 0.5554\n",
      "Recall on test set: 0.6378\n",
      "\n",
      "Precision on train set: 0.9023\n",
      "Precision on test set: 0.9477\n",
      "\n",
      "F1 Score on train set: 0.6615\n",
      "F1 Score on test set: 0.7588\n"
     ]
    }
   ],
   "source": [
    "print_score(model_rf, X_train, y_train, X_test, y_test)"
   ]
  },
  {
   "cell_type": "code",
   "execution_count": null,
   "id": "disturbed-legend",
   "metadata": {
    "hidden": true,
    "scrolled": false
   },
   "outputs": [],
   "source": [
    "from sklearn.metrics import ConfusionMatrixDisplay\n",
    "\n",
    "class_names=[0,1,2,3,4,5]\n",
    "\n",
    "titles_options = [(\"Confusion matrix, without normalization\", None),\n",
    "                  (\"Normalized confusion matrix\", \"true\")]\n",
    "\n",
    "for title, normalize in titles_options:\n",
    "    disp = ConfusionMatrixDisplay.from_estimator(\n",
    "        model_rf,\n",
    "        X_test,\n",
    "        y_test,\n",
    "        display_labels=class_names,\n",
    "        cmap=plt.cm.Blues,\n",
    "        normalize=normalize,\n",
    "    )\n",
    "    disp.ax_.set_title(title)\n",
    "\n",
    "plt.show()"
   ]
  },
  {
   "cell_type": "markdown",
   "id": "446d728a",
   "metadata": {
    "heading_collapsed": true
   },
   "source": [
    "# Random Forest - Dealing with unbalance"
   ]
  },
  {
   "cell_type": "markdown",
   "id": "33163e34",
   "metadata": {
    "heading_collapsed": true,
    "hidden": true
   },
   "source": [
    "## Under-sampling"
   ]
  },
  {
   "cell_type": "code",
   "execution_count": 85,
   "id": "ed77cebf",
   "metadata": {
    "hidden": true,
    "scrolled": true
   },
   "outputs": [
    {
     "data": {
      "text/plain": [
       "(array([0, 1, 2, 3, 4, 5]),\n",
       " array([241895,  83261,  64459,  49965,  29646,  15076]))"
      ]
     },
     "execution_count": 85,
     "metadata": {},
     "output_type": "execute_result"
    }
   ],
   "source": [
    "np.unique(y_train,return_counts=True)"
   ]
  },
  {
   "cell_type": "code",
   "execution_count": 86,
   "id": "3f31d1da",
   "metadata": {
    "hidden": true
   },
   "outputs": [],
   "source": [
    "from imblearn.under_sampling import RandomUnderSampler"
   ]
  },
  {
   "cell_type": "code",
   "execution_count": 87,
   "id": "6debac8f",
   "metadata": {
    "hidden": true
   },
   "outputs": [
    {
     "name": "stdout",
     "output_type": "stream",
     "text": [
      "(90456, 24) (90456,)\n"
     ]
    }
   ],
   "source": [
    "rus=RandomUnderSampler(sampling_strategy='auto',random_state=42)\n",
    "X_train_new,y_train_new=rus.fit_resample(X_train,y_train)\n",
    "print(X_train_new.shape,y_train_new.shape)"
   ]
  },
  {
   "cell_type": "code",
   "execution_count": 88,
   "id": "59cbcd7f",
   "metadata": {
    "hidden": true
   },
   "outputs": [],
   "source": [
    "# Standardization\n",
    "mean, std = X_train_new.mean(), X_train_new.std()\n",
    "\n",
    "X_train_new = (X_train_new - mean)/std\n",
    "X_valid = (X_valid - mean)/std\n",
    "X_test  = (X_test - mean)/std\n",
    "X_newtest  = (X_newtest - mean)/std"
   ]
  },
  {
   "cell_type": "code",
   "execution_count": 89,
   "id": "3f59b0f6",
   "metadata": {
    "hidden": true
   },
   "outputs": [],
   "source": [
    "random_grid2 = {'n_estimators': [70,100,110],\n",
    "               'max_features':[None,'sqrt'], \n",
    "               'max_depth':[None,10, 20, 25],\n",
    "               'min_samples_leaf':[3,7,10,16],\n",
    "               'max_samples':[None,0.5,0.25],\n",
    "               'min_samples_split':[2,5,10,15,25],           \n",
    "             }"
   ]
  },
  {
   "cell_type": "code",
   "execution_count": 90,
   "id": "e632ce46",
   "metadata": {
    "hidden": true
   },
   "outputs": [
    {
     "name": "stdout",
     "output_type": "stream",
     "text": [
      "Fitting 3 folds for each of 5 candidates, totalling 15 fits\n",
      "CPU times: user 14.5 s, sys: 288 ms, total: 14.8 s\n",
      "Wall time: 1min 12s\n",
      "The best hyperparameters: \n",
      " {'n_estimators': 70, 'min_samples_split': 2, 'min_samples_leaf': 7, 'max_samples': None, 'max_features': 'sqrt', 'max_depth': None}\n"
     ]
    }
   ],
   "source": [
    "class2 = RandomForestClassifier(random_state=42)\n",
    "\n",
    "rf_random2 = RandomizedSearchCV(estimator = class2, param_distributions = random_grid2, \n",
    "                                n_iter = 5, cv = 3, verbose=2, n_jobs = -1)\n",
    "\n",
    "%time rf_drought2 = rf_random2.fit(X_train_new,y_train_new)\n",
    "\n",
    "print(\"The best hyperparameters: \\n\",rf_drought2.best_params_)"
   ]
  },
  {
   "cell_type": "code",
   "execution_count": 91,
   "id": "3d0f7b07",
   "metadata": {
    "hidden": true
   },
   "outputs": [
    {
     "data": {
      "text/plain": [
       "RandomForestClassifier(max_features='sqrt', min_samples_leaf=7, n_estimators=70,\n",
       "                       random_state=42)"
      ]
     },
     "execution_count": 91,
     "metadata": {},
     "output_type": "execute_result"
    }
   ],
   "source": [
    "model_rf_balancedcat = rf_drought2.best_estimator_\n",
    "model_rf_balancedcat"
   ]
  },
  {
   "cell_type": "code",
   "execution_count": 98,
   "id": "e500dc5d",
   "metadata": {
    "hidden": true
   },
   "outputs": [
    {
     "name": "stdout",
     "output_type": "stream",
     "text": [
      "Accuracy on train set: 0.8830\n",
      "Accuracy on valid set: 0.5133\n",
      "\n",
      "Recall on train set: 0.8830\n",
      "Recall on valid set: 0.5133\n",
      "\n",
      "Precision on train set: 0.8852\n",
      "Precision on valid set: 0.5944\n",
      "\n",
      "F1 Score on train set: 0.8836\n",
      "F1 Score on valid set: 0.5394\n"
     ]
    }
   ],
   "source": [
    "print_valid_score(model_rf_balancedcat, X_train_new, y_train_new, X_valid, y_valid)"
   ]
  },
  {
   "cell_type": "code",
   "execution_count": 99,
   "id": "b20b4283",
   "metadata": {
    "hidden": true
   },
   "outputs": [
    {
     "name": "stdout",
     "output_type": "stream",
     "text": [
      "Accuracy on train set: 0.8830\n",
      "Accuracy on test set: 0.5270\n",
      "\n",
      "Recall on train set: 0.8830\n",
      "Recall on test set: 0.5270\n",
      "\n",
      "Precision on train set: 0.8852\n",
      "Precision on test set: 0.5486\n",
      "\n",
      "F1 Score on train set: 0.8836\n",
      "F1 Score on test set: 0.5358\n"
     ]
    }
   ],
   "source": [
    "print_score(model_rf_balancedcat, X_train_new, y_train_new, X_test, y_test)"
   ]
  },
  {
   "cell_type": "code",
   "execution_count": null,
   "id": "ef9f84eb",
   "metadata": {
    "hidden": true,
    "scrolled": false
   },
   "outputs": [],
   "source": [
    "from sklearn.metrics import ConfusionMatrixDisplay\n",
    "\n",
    "class_names=[0,1,2,3,4,5]\n",
    "\n",
    "titles_options = [(\"Confusion matrix, without normalization\", None),\n",
    "                  (\"Normalized confusion matrix\", \"true\")]\n",
    "\n",
    "for title, normalize in titles_options:\n",
    "    disp = ConfusionMatrixDisplay.from_estimator(\n",
    "        model_rf_balancedcat,\n",
    "        X_test,\n",
    "        y_test,\n",
    "        display_labels=class_names,\n",
    "        cmap=plt.cm.Blues,\n",
    "        normalize=normalize,\n",
    "    )\n",
    "    disp.ax_.set_title(title)\n",
    "\n",
    "plt.show()"
   ]
  },
  {
   "cell_type": "markdown",
   "id": "b178383e",
   "metadata": {
    "heading_collapsed": true,
    "hidden": true
   },
   "source": [
    "## Over-sampling"
   ]
  },
  {
   "cell_type": "code",
   "execution_count": 101,
   "id": "48f87644",
   "metadata": {
    "hidden": true
   },
   "outputs": [],
   "source": [
    "from imblearn.over_sampling import SMOTE"
   ]
  },
  {
   "cell_type": "code",
   "execution_count": 102,
   "id": "af8a5eee",
   "metadata": {
    "hidden": true,
    "scrolled": true
   },
   "outputs": [
    {
     "name": "stdout",
     "output_type": "stream",
     "text": [
      "(1451370, 24) (1451370,)\n"
     ]
    }
   ],
   "source": [
    "smote=SMOTE(sampling_strategy='auto',random_state=42)\n",
    "X_train_new,y_train_new=smote.fit_resample(X_train,y_train)\n",
    "print(X_train_new.shape,y_train_new.shape)"
   ]
  },
  {
   "cell_type": "code",
   "execution_count": 103,
   "id": "2621096d",
   "metadata": {
    "hidden": true
   },
   "outputs": [],
   "source": [
    "# Standardization\n",
    "mean, std = X_train_new.mean(), X_train_new.std()\n",
    "\n",
    "X_train_new = (X_train_new - mean)/std\n",
    "X_valid = (X_valid - mean)/std\n",
    "X_test  = (X_test - mean)/std\n",
    "X_newtest  = (X_newtest - mean)/std"
   ]
  },
  {
   "cell_type": "code",
   "execution_count": 104,
   "id": "surrounded-boating",
   "metadata": {
    "hidden": true
   },
   "outputs": [],
   "source": [
    "random_grid2 = {'n_estimators': [20,40,50,70],\n",
    "               'max_features':[None,'sqrt'], \n",
    "               'max_depth':[None,10, 20, 25],\n",
    "               'min_samples_leaf':[3,7,10,16],\n",
    "               'max_samples':[None,0.5,0.25],\n",
    "               'min_samples_split':[2,5,10,15,25],           \n",
    "             }"
   ]
  },
  {
   "cell_type": "code",
   "execution_count": 105,
   "id": "noticed-involvement",
   "metadata": {
    "hidden": true,
    "scrolled": true
   },
   "outputs": [
    {
     "name": "stdout",
     "output_type": "stream",
     "text": [
      "Fitting 3 folds for each of 5 candidates, totalling 15 fits\n",
      "CPU times: user 1min 12s, sys: 764 ms, total: 1min 13s\n",
      "Wall time: 7min 27s\n",
      "The best hyperparameters: \n",
      " {'n_estimators': 20, 'min_samples_split': 15, 'min_samples_leaf': 16, 'max_samples': 0.5, 'max_features': 'sqrt', 'max_depth': None}\n"
     ]
    }
   ],
   "source": [
    "class2 = RandomForestClassifier(random_state=42)\n",
    "\n",
    "rf_random2 = RandomizedSearchCV(estimator = class2, param_distributions = random_grid2, \n",
    "                                n_iter = 5, cv = 3, verbose=2, n_jobs = -1)\n",
    "\n",
    "%time rf_drought2 = rf_random2.fit(X_train_new,y_train_new)\n",
    "\n",
    "print(\"The best hyperparameters: \\n\",rf_drought2.best_params_)"
   ]
  },
  {
   "cell_type": "code",
   "execution_count": 106,
   "id": "herbal-possibility",
   "metadata": {
    "hidden": true,
    "scrolled": true
   },
   "outputs": [
    {
     "data": {
      "text/plain": [
       "RandomForestClassifier(max_features='sqrt', max_samples=0.5,\n",
       "                       min_samples_leaf=16, min_samples_split=15,\n",
       "                       n_estimators=20, random_state=42)"
      ]
     },
     "execution_count": 106,
     "metadata": {},
     "output_type": "execute_result"
    }
   ],
   "source": [
    "model_rf_balancedcat = rf_drought2.best_estimator_\n",
    "model_rf_balancedcat"
   ]
  },
  {
   "cell_type": "code",
   "execution_count": 107,
   "id": "5f10b65e",
   "metadata": {
    "hidden": true,
    "scrolled": true
   },
   "outputs": [
    {
     "name": "stdout",
     "output_type": "stream",
     "text": [
      "Accuracy on train set: 0.8762\n",
      "Accuracy on valid set: 0.5319\n",
      "\n",
      "Recall on train set: 0.8762\n",
      "Recall on valid set: 0.5319\n",
      "\n",
      "Precision on train set: 0.8774\n",
      "Precision on valid set: 0.6317\n",
      "\n",
      "F1 Score on train set: 0.8767\n",
      "F1 Score on valid set: 0.5731\n"
     ]
    }
   ],
   "source": [
    "print_valid_score(model_rf_balancedcat, X_train_new, y_train_new, X_valid, y_valid)"
   ]
  },
  {
   "cell_type": "code",
   "execution_count": 108,
   "id": "95d8aaa4",
   "metadata": {
    "hidden": true
   },
   "outputs": [
    {
     "name": "stdout",
     "output_type": "stream",
     "text": [
      "Accuracy on train set: 0.8762\n",
      "Accuracy on valid set: 0.5319\n",
      "\n",
      "Recall on train set: 0.8762\n",
      "Recall on valid set: 0.5319\n",
      "\n",
      "Precision on train set: 0.8774\n",
      "Precision on valid set: 0.6317\n",
      "\n",
      "F1 Score on train set: 0.8767\n",
      "F1 Score on valid set: 0.5731\n"
     ]
    }
   ],
   "source": [
    "print_valid_score(model_rf_balancedcat, X_train_new, y_train_new, X_valid, y_valid)"
   ]
  },
  {
   "cell_type": "code",
   "execution_count": null,
   "id": "4eb53069",
   "metadata": {
    "hidden": true,
    "scrolled": true
   },
   "outputs": [],
   "source": [
    "from sklearn.metrics import ConfusionMatrixDisplay\n",
    "\n",
    "class_names=[0,1,2,3,4,5]\n",
    "\n",
    "titles_options = [(\"Confusion matrix, without normalization\", None),\n",
    "                  (\"Normalized confusion matrix\", \"true\")]\n",
    "\n",
    "for title, normalize in titles_options:\n",
    "    disp = ConfusionMatrixDisplay.from_estimator(\n",
    "        model_rf_balancedcat,\n",
    "        X_test,\n",
    "        y_test,\n",
    "        display_labels=class_names,\n",
    "        cmap=plt.cm.Blues,\n",
    "        normalize=normalize,\n",
    "    )\n",
    "    disp.ax_.set_title(title)\n",
    "\n",
    "plt.show()"
   ]
  },
  {
   "cell_type": "markdown",
   "id": "2742fe5c",
   "metadata": {
    "heading_collapsed": true
   },
   "source": [
    "# Random Forest with feature selection"
   ]
  },
  {
   "cell_type": "code",
   "execution_count": 36,
   "id": "f1b427ff",
   "metadata": {
    "hidden": true
   },
   "outputs": [],
   "source": [
    "def rf_feat_importance(model, df):\n",
    "    feat_importance = pd.DataFrame({\n",
    "        'cols': df.columns, \n",
    "        'imp': model.feature_importances_,\n",
    "    })\n",
    "    feat_importance = feat_importance.sort_values('imp', ascending = False)\n",
    "    return feat_importance"
   ]
  },
  {
   "cell_type": "code",
   "execution_count": 38,
   "id": "534f473e",
   "metadata": {
    "hidden": true
   },
   "outputs": [
    {
     "data": {
      "text/html": [
       "<div>\n",
       "<style scoped>\n",
       "    .dataframe tbody tr th:only-of-type {\n",
       "        vertical-align: middle;\n",
       "    }\n",
       "\n",
       "    .dataframe tbody tr th {\n",
       "        vertical-align: top;\n",
       "    }\n",
       "\n",
       "    .dataframe thead th {\n",
       "        text-align: right;\n",
       "    }\n",
       "</style>\n",
       "<table border=\"1\" class=\"dataframe\">\n",
       "  <thead>\n",
       "    <tr style=\"text-align: right;\">\n",
       "      <th></th>\n",
       "      <th>cols</th>\n",
       "      <th>imp</th>\n",
       "    </tr>\n",
       "  </thead>\n",
       "  <tbody>\n",
       "    <tr>\n",
       "      <th>19</th>\n",
       "      <td>Year</td>\n",
       "      <td>0.255081</td>\n",
       "    </tr>\n",
       "    <tr>\n",
       "      <th>9</th>\n",
       "      <td>T2M_RANGE</td>\n",
       "      <td>0.081868</td>\n",
       "    </tr>\n",
       "    <tr>\n",
       "      <th>7</th>\n",
       "      <td>T2M_MAX</td>\n",
       "      <td>0.068638</td>\n",
       "    </tr>\n",
       "    <tr>\n",
       "      <th>2</th>\n",
       "      <td>PS</td>\n",
       "      <td>0.060300</td>\n",
       "    </tr>\n",
       "    <tr>\n",
       "      <th>10</th>\n",
       "      <td>TS</td>\n",
       "      <td>0.059393</td>\n",
       "    </tr>\n",
       "    <tr>\n",
       "      <th>6</th>\n",
       "      <td>T2MWET</td>\n",
       "      <td>0.054815</td>\n",
       "    </tr>\n",
       "    <tr>\n",
       "      <th>3</th>\n",
       "      <td>QV2M</td>\n",
       "      <td>0.047020</td>\n",
       "    </tr>\n",
       "    <tr>\n",
       "      <th>23</th>\n",
       "      <td>Day_of_year</td>\n",
       "      <td>0.044163</td>\n",
       "    </tr>\n",
       "    <tr>\n",
       "      <th>4</th>\n",
       "      <td>T2M</td>\n",
       "      <td>0.043638</td>\n",
       "    </tr>\n",
       "    <tr>\n",
       "      <th>5</th>\n",
       "      <td>T2MDEW</td>\n",
       "      <td>0.043422</td>\n",
       "    </tr>\n",
       "    <tr>\n",
       "      <th>0</th>\n",
       "      <td>fips</td>\n",
       "      <td>0.042064</td>\n",
       "    </tr>\n",
       "    <tr>\n",
       "      <th>8</th>\n",
       "      <td>T2M_MIN</td>\n",
       "      <td>0.032843</td>\n",
       "    </tr>\n",
       "    <tr>\n",
       "      <th>21</th>\n",
       "      <td>Week</td>\n",
       "      <td>0.028143</td>\n",
       "    </tr>\n",
       "    <tr>\n",
       "      <th>1</th>\n",
       "      <td>PRECTOT</td>\n",
       "      <td>0.020159</td>\n",
       "    </tr>\n",
       "    <tr>\n",
       "      <th>14</th>\n",
       "      <td>WS10M_RANGE</td>\n",
       "      <td>0.017027</td>\n",
       "    </tr>\n",
       "    <tr>\n",
       "      <th>20</th>\n",
       "      <td>Month</td>\n",
       "      <td>0.015718</td>\n",
       "    </tr>\n",
       "    <tr>\n",
       "      <th>12</th>\n",
       "      <td>WS10M_MAX</td>\n",
       "      <td>0.014945</td>\n",
       "    </tr>\n",
       "    <tr>\n",
       "      <th>22</th>\n",
       "      <td>Day</td>\n",
       "      <td>0.014803</td>\n",
       "    </tr>\n",
       "    <tr>\n",
       "      <th>16</th>\n",
       "      <td>WS50M_MAX</td>\n",
       "      <td>0.011097</td>\n",
       "    </tr>\n",
       "    <tr>\n",
       "      <th>11</th>\n",
       "      <td>WS10M</td>\n",
       "      <td>0.010977</td>\n",
       "    </tr>\n",
       "  </tbody>\n",
       "</table>\n",
       "</div>"
      ],
      "text/plain": [
       "           cols       imp\n",
       "19         Year  0.255081\n",
       "9     T2M_RANGE  0.081868\n",
       "7       T2M_MAX  0.068638\n",
       "2            PS  0.060300\n",
       "10           TS  0.059393\n",
       "6        T2MWET  0.054815\n",
       "3          QV2M  0.047020\n",
       "23  Day_of_year  0.044163\n",
       "4           T2M  0.043638\n",
       "5        T2MDEW  0.043422\n",
       "0          fips  0.042064\n",
       "8       T2M_MIN  0.032843\n",
       "21         Week  0.028143\n",
       "1       PRECTOT  0.020159\n",
       "14  WS10M_RANGE  0.017027\n",
       "20        Month  0.015718\n",
       "12    WS10M_MAX  0.014945\n",
       "22          Day  0.014803\n",
       "16    WS50M_MAX  0.011097\n",
       "11        WS10M  0.010977"
      ]
     },
     "execution_count": 38,
     "metadata": {},
     "output_type": "execute_result"
    }
   ],
   "source": [
    "feat_importance = rf_feat_importance(model_rf, X_train_df)\n",
    "feat_importance[:20]"
   ]
  },
  {
   "cell_type": "code",
   "execution_count": 39,
   "id": "56ac4202",
   "metadata": {
    "hidden": true,
    "scrolled": false
   },
   "outputs": [
    {
     "data": {
      "image/png": "[encoded data removed]",
      "text/plain": [
       "<Figure size 1200x1000 with 1 Axes>"
      ]
     },
     "metadata": {
      "image/png": {
       "height": 816,
       "width": 1122
      }
     },
     "output_type": "display_data"
    }
   ],
   "source": [
    "barh = feat_importance[:30].plot('cols', 'imp', 'barh', figsize = (12,10), legend = False)\n",
    "barh = barh.invert_yaxis()\n",
    "barh"
   ]
  },
  {
   "cell_type": "code",
   "execution_count": 43,
   "id": "f89be22e",
   "metadata": {
    "hidden": true
   },
   "outputs": [
    {
     "data": {
      "text/plain": [
       "14"
      ]
     },
     "execution_count": 43,
     "metadata": {},
     "output_type": "execute_result"
    }
   ],
   "source": [
    "to_keep = feat_importance[feat_importance.imp > 0.02].cols\n",
    "len(to_keep)"
   ]
  },
  {
   "cell_type": "code",
   "execution_count": 44,
   "id": "221d91d8",
   "metadata": {
    "hidden": true
   },
   "outputs": [
    {
     "data": {
      "text/plain": [
       "19           Year\n",
       "9       T2M_RANGE\n",
       "7         T2M_MAX\n",
       "2              PS\n",
       "10             TS\n",
       "6          T2MWET\n",
       "3            QV2M\n",
       "23    Day_of_year\n",
       "4             T2M\n",
       "5          T2MDEW\n",
       "0            fips\n",
       "8         T2M_MIN\n",
       "21           Week\n",
       "1         PRECTOT\n",
       "Name: cols, dtype: object"
      ]
     },
     "execution_count": 44,
     "metadata": {},
     "output_type": "execute_result"
    }
   ],
   "source": [
    "to_keep"
   ]
  },
  {
   "cell_type": "markdown",
   "id": "690575b0",
   "metadata": {
    "hidden": true
   },
   "source": [
    "## The Random Forest with the most important feature"
   ]
  },
  {
   "cell_type": "code",
   "execution_count": 57,
   "id": "cfa36a8f",
   "metadata": {
    "hidden": true
   },
   "outputs": [],
   "source": [
    "df_keep = df[to_keep].copy()"
   ]
  },
  {
   "cell_type": "code",
   "execution_count": 60,
   "id": "8a46ea24",
   "metadata": {
    "hidden": true
   },
   "outputs": [
    {
     "data": {
      "text/plain": [
       "((484302, 14),\n",
       " (484302,),\n",
       " (56784, 14),\n",
       " (56784,),\n",
       " (57330, 14),\n",
       " (57330,),\n",
       " (139755, 14),\n",
       " (139755,))"
      ]
     },
     "execution_count": 60,
     "metadata": {},
     "output_type": "execute_result"
    }
   ],
   "source": [
    "# Split data into X and y\n",
    "\n",
    "X_train_df, y_train_df = df_train[to_keep], df_train.score\n",
    "X_valid_df, y_valid_df = df_val[to_keep], df_val.score\n",
    "X_test_df, y_test_df = df_test[to_keep], df_test.score\n",
    "\n",
    "X_newtest_df, y_newtest_df = df_newtest[to_keep], df_newtest.score\n",
    "\n",
    "# Check the shape of our X and y variables\n",
    "X_train_df.shape, y_train_df.shape, X_valid_df.shape, y_valid_df.shape,X_test_df.shape, y_test_df.shape, X_newtest_df.shape, y_newtest_df.shape"
   ]
  },
  {
   "cell_type": "code",
   "execution_count": 61,
   "id": "218f81e7",
   "metadata": {
    "hidden": true
   },
   "outputs": [
    {
     "data": {
      "text/plain": [
       "((484302, 14),\n",
       " (484302,),\n",
       " (56784, 14),\n",
       " (56784,),\n",
       " (57330, 14),\n",
       " (57330,),\n",
       " (139755, 14),\n",
       " (139755,))"
      ]
     },
     "execution_count": 61,
     "metadata": {},
     "output_type": "execute_result"
    }
   ],
   "source": [
    "# Standardization\n",
    "mean, std = X_train_df.mean(), X_train_df.std()\n",
    "\n",
    "X_train_df = (X_train_df - mean)/std\n",
    "X_valid_df = (X_valid_df - mean)/std\n",
    "X_test_df  = (X_test_df - mean)/std\n",
    "X_newtest_df  = (X_newtest_df - mean)/std\n",
    "\n",
    "X_train = X_train_df.to_numpy()\n",
    "y_train = y_train_df.to_numpy()\n",
    "\n",
    "X_valid = X_valid_df.to_numpy()\n",
    "y_valid = y_valid_df.to_numpy()\n",
    "\n",
    "X_test = X_test_df.to_numpy()\n",
    "y_test = y_test_df.to_numpy()\n",
    "\n",
    "X_newtest = X_newtest_df.to_numpy()\n",
    "y_newtest = y_newtest_df.to_numpy()\n",
    "\n",
    "X_train.shape,y_train.shape,X_valid.shape,y_valid.shape, X_test.shape,y_test.shape, X_newtest.shape,y_newtest.shape"
   ]
  },
  {
   "cell_type": "code",
   "execution_count": null,
   "id": "5ced4dbc",
   "metadata": {
    "hidden": true
   },
   "outputs": [],
   "source": [
    "random_grid4 = {'n_estimators': [15,20,30,45,60],\n",
    "               'max_features':[None,'sqrt'], \n",
    "               'max_depth':[None,10, 20, 25],\n",
    "               'min_samples_leaf':[3,7,10,16],\n",
    "               'max_samples':[None,0.5,0.25],\n",
    "               'min_samples_split':[2,5,10,15,25],           \n",
    "             }"
   ]
  },
  {
   "cell_type": "code",
   "execution_count": 62,
   "id": "205de40f",
   "metadata": {
    "hidden": true
   },
   "outputs": [
    {
     "name": "stdout",
     "output_type": "stream",
     "text": [
      "Fitting 3 folds for each of 5 candidates, totalling 15 fits\n",
      "CPU times: user 28.1 s, sys: 407 ms, total: 28.5 s\n",
      "Wall time: 3min 47s\n",
      "The best hyperparameters: \n",
      " {'n_estimators': 30, 'min_samples_split': 5, 'min_samples_leaf': 10, 'max_samples': None, 'max_features': 'sqrt', 'max_depth': None}\n"
     ]
    }
   ],
   "source": [
    "class4 = RandomForestClassifier(random_state=42)\n",
    "\n",
    "rf_random4 = RandomizedSearchCV(estimator = class4, param_distributions = random_grid4, \n",
    "                                n_iter = 5, cv = 3, verbose=2, n_jobs = -1)\n",
    "\n",
    "%time rf_drought4 = rf_random4.fit(X_train,y_train)\n",
    "\n",
    "print(\"The best hyperparameters: \\n\",rf_drought4.best_params_)"
   ]
  },
  {
   "cell_type": "code",
   "execution_count": 64,
   "id": "2beb3833",
   "metadata": {
    "hidden": true
   },
   "outputs": [
    {
     "data": {
      "text/plain": [
       "RandomForestClassifier(max_features='sqrt', min_samples_leaf=10,\n",
       "                       min_samples_split=5, n_estimators=30, random_state=42)"
      ]
     },
     "execution_count": 64,
     "metadata": {},
     "output_type": "execute_result"
    }
   ],
   "source": [
    "model_rf_features = rf_drought4.best_estimator_\n",
    "model_rf_features"
   ]
  },
  {
   "cell_type": "code",
   "execution_count": null,
   "id": "3998d51b",
   "metadata": {
    "hidden": true
   },
   "outputs": [],
   "source": [
    "print_score(model_rf_features, X_train, y_train, X_test, y_test)"
   ]
  },
  {
   "cell_type": "code",
   "execution_count": null,
   "id": "04943164",
   "metadata": {
    "hidden": true
   },
   "outputs": [],
   "source": [
    "from sklearn.metrics import ConfusionMatrixDisplay\n",
    "\n",
    "class_names=[0,1,2,3,4,5]\n",
    "\n",
    "titles_options = [(\"Confusion matrix, without normalization\", None),\n",
    "                  (\"Normalized confusion matrix\", \"true\")]\n",
    "\n",
    "for title, normalize in titles_options:\n",
    "    disp = ConfusionMatrixDisplay.from_estimator(\n",
    "        model_rf_features,\n",
    "        X_test,\n",
    "        y_test,\n",
    "        display_labels=class_names,\n",
    "        cmap=plt.cm.Blues,\n",
    "        normalize=normalize,\n",
    "    )\n",
    "    disp.ax_.set_title(title)\n",
    "\n",
    "plt.show()"
   ]
  }
 ],
 "metadata": {
  "kernelspec": {
   "display_name": "keras",
   "language": "python",
   "name": "keras"
  },
  "language_info": {
   "codemirror_mode": {
    "name": "ipython",
    "version": 3
   },
   "file_extension": ".py",
   "mimetype": "text/x-python",
   "name": "python",
   "nbconvert_exporter": "python",
   "pygments_lexer": "ipython3",
   "version": "3.10.8"
  },
  "widgets": {
   "application/vnd.jupyter.widget-state+json": {
    "state": {},
    "version_major": 2,
    "version_minor": 0
   }
  }
 },
 "nbformat": 4,
 "nbformat_minor": 5
}
